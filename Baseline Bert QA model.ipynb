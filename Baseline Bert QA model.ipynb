{
 "cells": [
  {
   "cell_type": "code",
   "execution_count": 44,
   "metadata": {},
   "outputs": [],
   "source": [
    "import json\n",
    "import transformers\n",
    "import torch"
   ]
  },
  {
   "cell_type": "code",
   "execution_count": 2,
   "metadata": {},
   "outputs": [],
   "source": [
    "# import json file returned by document retrivial \n",
    "with open(\"data.json\") as f:\n",
    "    data = json.load(f)"
   ]
  },
  {
   "cell_type": "code",
   "execution_count": 3,
   "metadata": {},
   "outputs": [],
   "source": [
    "data = data[\"body_text\"]"
   ]
  },
  {
   "cell_type": "markdown",
   "metadata": {},
   "source": [
    "Perform zero-shot learning on the data based on pre-trained Bert (pretrained on SQuAD version 1)"
   ]
  },
  {
   "cell_type": "code",
   "execution_count": 4,
   "metadata": {},
   "outputs": [],
   "source": [
    "from transformers import BertForQuestionAnswering"
   ]
  },
  {
   "cell_type": "code",
   "execution_count": 5,
   "metadata": {},
   "outputs": [
    {
     "data": {
      "application/vnd.jupyter.widget-view+json": {
       "model_id": "eade8ffdb6e14f38b550bf51a3048a0e",
       "version_major": 2,
       "version_minor": 0
      },
      "text/plain": [
       "HBox(children=(HTML(value='Downloading'), FloatProgress(value=0.0, max=443.0), HTML(value='')))"
      ]
     },
     "metadata": {},
     "output_type": "display_data"
    },
    {
     "name": "stdout",
     "output_type": "stream",
     "text": [
      "\n"
     ]
    },
    {
     "data": {
      "application/vnd.jupyter.widget-view+json": {
       "model_id": "abb28060533f4361b9eaea0be171c5d9",
       "version_major": 2,
       "version_minor": 0
      },
      "text/plain": [
       "HBox(children=(HTML(value='Downloading'), FloatProgress(value=0.0, max=1340675298.0), HTML(value='')))"
      ]
     },
     "metadata": {},
     "output_type": "display_data"
    },
    {
     "name": "stdout",
     "output_type": "stream",
     "text": [
      "\n"
     ]
    }
   ],
   "source": [
    "# Bert QA pretrained Model\n",
    "model = BertForQuestionAnswering.from_pretrained(\"bert-large-uncased-whole-word-masking-finetuned-squad\")"
   ]
  },
  {
   "cell_type": "code",
   "execution_count": 6,
   "metadata": {},
   "outputs": [
    {
     "data": {
      "application/vnd.jupyter.widget-view+json": {
       "model_id": "735bf7edc0f843479ed6403524a9897d",
       "version_major": 2,
       "version_minor": 0
      },
      "text/plain": [
       "HBox(children=(HTML(value='Downloading'), FloatProgress(value=0.0, max=231508.0), HTML(value='')))"
      ]
     },
     "metadata": {},
     "output_type": "display_data"
    },
    {
     "name": "stdout",
     "output_type": "stream",
     "text": [
      "\n"
     ]
    }
   ],
   "source": [
    "# Bert Tokenizer\n",
    "from transformers import BertTokenizer\n",
    "tokenizer = BertTokenizer.from_pretrained(\"bert-large-uncased-whole-word-masking-finetuned-squad\")"
   ]
  },
  {
   "cell_type": "code",
   "execution_count": 39,
   "metadata": {},
   "outputs": [],
   "source": [
    "question = \"What do we know about COVID-19 risk factors?\"\n",
    "answer_text = data[:536] \n",
    "# this is just for demo, in final report, we will split our thesis into paragraphs"
   ]
  },
  {
   "cell_type": "code",
   "execution_count": 40,
   "metadata": {},
   "outputs": [
    {
     "data": {
      "text/plain": [
       "'Severe acute respiratory syndrome coronavirus 2 (SARS-CoV-2), identified in December 2019, is the cause of the illness named COVID-19. 1, 2 With more than 249,000 confirmed cases and more than 28,700 deaths by 20 th August 2020, Spain remains one of the European countries most severely affected by the ongoing COVID-19 pandemic. 3, 4 Spain also established a universal screening programme for pregnancies in light of the higher disease exposure. We observed that obstetric intervention may influence the clinical course of the disease.'"
      ]
     },
     "execution_count": 40,
     "metadata": {},
     "output_type": "execute_result"
    }
   ],
   "source": [
    "answer_text"
   ]
  },
  {
   "cell_type": "markdown",
   "metadata": {},
   "source": [
    "Tokenize our data"
   ]
  },
  {
   "cell_type": "code",
   "execution_count": 41,
   "metadata": {},
   "outputs": [
    {
     "name": "stdout",
     "output_type": "stream",
     "text": [
      "the input has a total of 132 tokens.\n"
     ]
    }
   ],
   "source": [
    "input_ids = tokenizer.encode(question, answer_text)\n",
    "print(\"the input has a total of {:} tokens.\".format(len(input_ids)))"
   ]
  },
  {
   "cell_type": "code",
   "execution_count": 42,
   "metadata": {},
   "outputs": [
    {
     "name": "stdout",
     "output_type": "stream",
     "text": [
      "[CLS]           101\n",
      "what           2054\n",
      "do             2079\n",
      "we             2057\n",
      "know           2113\n",
      "about          2055\n",
      "co             2522\n",
      "##vid         17258\n",
      "-              1011\n",
      "19             2539\n",
      "risk           3891\n",
      "factors        5876\n",
      "?              1029\n",
      "\n",
      "[SEP]           102\n",
      "\n",
      "severe         5729\n",
      "acute         11325\n",
      "respiratory   16464\n",
      "syndrome       8715\n",
      "corona        21887\n",
      "##virus       23350\n",
      "2              1016\n",
      "(              1006\n",
      "sar           18906\n",
      "##s            2015\n",
      "-              1011\n",
      "co             2522\n",
      "##v            2615\n",
      "-              1011\n",
      "2              1016\n",
      ")              1007\n",
      ",              1010\n",
      "identified     4453\n",
      "in             1999\n",
      "december       2285\n",
      "2019          10476\n",
      ",              1010\n",
      "is             2003\n",
      "the            1996\n",
      "cause          3426\n",
      "of             1997\n",
      "the            1996\n",
      "illness        7355\n",
      "named          2315\n",
      "co             2522\n",
      "##vid         17258\n",
      "-              1011\n",
      "19             2539\n",
      ".              1012\n",
      "1              1015\n",
      ",              1010\n",
      "2              1016\n",
      "with           2007\n",
      "more           2062\n",
      "than           2084\n",
      "249           23628\n",
      ",              1010\n",
      "000            2199\n",
      "confirmed      4484\n",
      "cases          3572\n",
      "and            1998\n",
      "more           2062\n",
      "than           2084\n",
      "28             2654\n",
      ",              1010\n",
      "700            6352\n",
      "deaths         6677\n",
      "by             2011\n",
      "20             2322\n",
      "th            16215\n",
      "august         2257\n",
      "2020          12609\n",
      ",              1010\n",
      "spain          3577\n",
      "remains        3464\n",
      "one            2028\n",
      "of             1997\n",
      "the            1996\n",
      "european       2647\n",
      "countries      3032\n",
      "most           2087\n",
      "severely       8949\n",
      "affected       5360\n",
      "by             2011\n",
      "the            1996\n",
      "ongoing        7552\n",
      "co             2522\n",
      "##vid         17258\n",
      "-              1011\n",
      "19             2539\n",
      "pan            6090\n",
      "##de           3207\n",
      "##mic          7712\n",
      ".              1012\n",
      "3              1017\n",
      ",              1010\n",
      "4              1018\n",
      "spain          3577\n",
      "also           2036\n",
      "established    2511\n",
      "a              1037\n",
      "universal      5415\n",
      "screening     11326\n",
      "programme      4746\n",
      "for            2005\n",
      "pre            3653\n",
      "##gnan        28207\n",
      "##cies         9243\n",
      "in             1999\n",
      "light          2422\n",
      "of             1997\n",
      "the            1996\n",
      "higher         3020\n",
      "disease        4295\n",
      "exposure       7524\n",
      ".              1012\n",
      "we             2057\n",
      "observed       5159\n",
      "that           2008\n",
      "ob            27885\n",
      "##ste         13473\n",
      "##tric        12412\n",
      "intervention   8830\n",
      "may            2089\n",
      "influence      3747\n",
      "the            1996\n",
      "clinical       6612\n",
      "course         2607\n",
      "of             1997\n",
      "the            1996\n",
      "disease        4295\n",
      ".              1012\n",
      "\n",
      "[SEP]           102\n",
      "\n"
     ]
    }
   ],
   "source": [
    "tokens = tokenizer.convert_ids_to_tokens(input_ids)\n",
    "\n",
    "for token, id in zip(tokens, input_ids):\n",
    "    \n",
    "    if id == tokenizer.sep_token_id:\n",
    "        print(\"\")\n",
    "    \n",
    "    print(\"{:<12} {:>6}\".format(token, id))\n",
    "    \n",
    "    if id == tokenizer.sep_token_id:\n",
    "        print(\"\")"
   ]
  },
  {
   "cell_type": "code",
   "execution_count": 43,
   "metadata": {},
   "outputs": [],
   "source": [
    "sep_index = input_ids.index(tokenizer.sep_token_id)\n",
    "\n",
    "num_seg_a = sep_index + 1\n",
    "num_seg_b = len(input_ids) - num_seg_a\n",
    "# this is for the bertQA required input (to mask the question part)\n",
    "segment_ids = [0]*num_seg_a + [1]*num_seg_b\n",
    "\n",
    "assert len(segment_ids) == len(input_ids)"
   ]
  },
  {
   "cell_type": "markdown",
   "metadata": {},
   "source": [
    "Run through model"
   ]
  },
  {
   "cell_type": "code",
   "execution_count": 45,
   "metadata": {},
   "outputs": [],
   "source": [
    "# start scores and end_scores means the probability of every tokens being start of answer and end of answer\n",
    "start_scores, end_scores = model(torch.tensor([input_ids]),\n",
    "                                token_type_ids = torch.tensor([segment_ids]))"
   ]
  },
  {
   "cell_type": "code",
   "execution_count": 46,
   "metadata": {},
   "outputs": [
    {
     "name": "stdout",
     "output_type": "stream",
     "text": [
      "Answer:   we observed that ob ##ste ##tric intervention may influence the clinical course of the disease .\n"
     ]
    }
   ],
   "source": [
    "answer_start = torch.argmax(start_scores)\n",
    "answer_end = torch.argmax(end_scores)\n",
    "\n",
    "answer = \" \".join(tokens[answer_start:answer_end+1])\n",
    "\n",
    "print(\"Answer:   \" + answer)"
   ]
  },
  {
   "cell_type": "code",
   "execution_count": null,
   "metadata": {},
   "outputs": [],
   "source": []
  }
 ],
 "metadata": {
  "kernelspec": {
   "display_name": "Python 3",
   "language": "python",
   "name": "python3"
  },
  "language_info": {
   "codemirror_mode": {
    "name": "ipython",
    "version": 3
   },
   "file_extension": ".py",
   "mimetype": "text/x-python",
   "name": "python",
   "nbconvert_exporter": "python",
   "pygments_lexer": "ipython3",
   "version": "3.7.4"
  }
 },
 "nbformat": 4,
 "nbformat_minor": 2
}
