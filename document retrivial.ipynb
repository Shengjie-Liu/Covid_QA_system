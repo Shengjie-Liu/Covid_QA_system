{
 "cells": [
  {
   "cell_type": "code",
   "execution_count": 7,
   "metadata": {},
   "outputs": [],
   "source": [
    "import json\n",
    "import os \n",
    "import elasticsearch\n",
    "import nltk\n",
    "import string\n",
    "from elasticsearch import helpers\n",
    "from elasticsearch import Elasticsearch\n",
    "from nltk.corpus import stopwords"
   ]
  },
  {
   "cell_type": "markdown",
   "metadata": {},
   "source": [
    "Import Json file to elasticsearch"
   ]
  },
  {
   "cell_type": "code",
   "execution_count": 3,
   "metadata": {},
   "outputs": [],
   "source": [
    "path = \"/Users/shengjieliu/Desktop/bia667/project/pdf_json/\"\n",
    "files = os.listdir(path)\n",
    "files = files[:5000] # Just for a demo, due to large number (120000) corpus"
   ]
  },
  {
   "cell_type": "code",
   "execution_count": 4,
   "metadata": {},
   "outputs": [
    {
     "name": "stdout",
     "output_type": "stream",
     "text": [
      "read into 0 files\n",
      "read into 1000 files\n",
      "read into 2000 files\n",
      "read into 3000 files\n",
      "read into 4000 files\n"
     ]
    }
   ],
   "source": [
    "corpus = []\n",
    "for idx, file in enumerate(files):\n",
    "    with open(path + file) as f:\n",
    "        data = json.load(f)\n",
    "    if (idx % 1000) == 0:\n",
    "        print(f\"read into {idx} files\")\n",
    "    body = data['body_text']\n",
    "    combine_body = \"\"\n",
    "    for para in body:\n",
    "        combine_body += para['text']\n",
    "    data['body_text'] = combine_body\n",
    "    append_dic = {}\n",
    "    append_dic['metadata'] = data['metadata']['title']\n",
    "    append_dic['body_text'] = data['body_text']\n",
    "    append_dic[\"_index\"] = \"covid\"\n",
    "    corpus.append(append_dic)"
   ]
  },
  {
   "cell_type": "code",
   "execution_count": 5,
   "metadata": {},
   "outputs": [
    {
     "data": {
      "text/plain": [
       "{'metadata': 'Clinical and epidemiological characteristics of pediatric SARS-CoV-2 infections in China: A multicenter case series',\n",
       " 'body_text': \"a1111111111 a1111111111 a1111111111 a1111111111 a1111111111 available data; 78%). In addition, significant increases in the levels of lactate dehydrogenase and α-hydroxybutyrate dehydrogenase were detected in 28 patients (among 34 patients with available data; 82%) and 25 patients (among 34 patients with available data; 74%), respectively. Patchy lesions in lobules were detected by chest computed tomographic scans in 28 patients (82%). Ground-glass opacities, which were a typical feature in adults, were rare in pediatric patients (3%). Rapid radiologic progression and a late-onset pattern of lesions in the lobules were also noticed. Lesions in lobules still existed in 24 (among 32 patients with lesions; 75%) patients that were discharged, although the main symptoms disappeared a few days after treatment. All patients were discharged, and the median duration of hospitalization was 10.00 (8.00-14.25 ) days. The current study was limited by the small sample size and a lack of dynamic detection of inflammatory markers.Our data systemically presented the clinical and epidemiological features, as well as the outcomes, of pediatric patients with COVID-19. Stratified analysis was performed between mild and moderate cases. The findings offer new insight into early identification and intervention in pediatric patients with COVID-19.Why was this study done?• Severe acute respiratory syndrome coronavirus 2 (SARS-CoV-2) infection has spread rapidly worldwide.• Early identification and intervention are necessary for effective control of the epidemic in both adults and children; however, the information on clinical and epidemiological characteristics in pediatric patients was limited.What did the researchers do and find?• We collected and analyzed the clinical data of 34 pediatric patients with coronavirus disease-2019 (COVID- 19) in 4 hospitals in China from January 27 to February 23, 2020.• We described the clinical and epidemiological characteristics of the patients and focused on the features of initial symptoms, radiological findings, and outcomes.• In contrast to that observed in adult patients, higher proportion of fever, vomiting, and diarrhea were noticed on admission in pediatric cases. Patchy shadows with a high density were common in lobule lesions, whereas the typical features of ground-glass opacities seen in adults were rare in pediatric cases.• A late-onset pattern of lobule lesions was revealed on the basis of chest computed tomographic scans. The clinical presentations were not as severe as the signs observed in the computed tomography (CT) images, and the recovery of lesions in lobules lagged behind that of the main symptoms. Severe acute respiratory syndrome coronavirus 2 (SARS-CoV-2) infection has spread worldwide rapidly since its emergence in Wuhan in China in early December 2019 [1] . The SARS-CoV-2 epidemic was declared a public health emergency of international concern by the World Health Organization (WHO) on January 30, 2020 [2] . To date, over 2,000,000 patients have been diagnosed with coronavirus disease-2019 (COVID- 19) globally. The cumulative number of laboratory-confirmed cases has been reported to be over 660,000 in the United States, 180,000 in Spain, 170,000 in Italy, and 80,000 in China [3]. SARS-CoV-2 was identified as a diverse clade derived from severe acute respiratory syndrome coronavirus (SARS-CoV) and Middle East respiratory syndrome coronavirus (MERS-CoV) and was reported as the cause of COVID-19 [4] . The clinical characteristics of adult patients with COVID-19 have been revealed in recent studies and mainly include fever, cough, dyspnea, and radiographic findings of pneumonia [5] [6] [7] . However, information on pediatric patients is limited. This case series describes the clinical and epidemiological features of 34 pediatric patients on the basis of epidemiological, demographic, laboratory, and radiological data and aims to contribute to a comprehensive understanding of the characteristics of COVID-19.This retrospective, observational study was approved by the institutional review board (IRB) of the Affiliated Taihe Hospital of Hubei University of Medicine (ethical approval no. 2020KY01). Suspected patients with clinical and/or radiological features of pneumonia were quarantined prior to SARS-CoV-2 nucleic acid detection according to WHO guidelines for cases with suspected infection [8] as well as the instructions from the Pediatric Branch of the Hubei Medical Association for pediatric cases [9] . Specifically, suspected cases of SARS-CoV-2 infection should meet 1 of the following criteria [10] : (1) at least 1 clinical symptom, including fever, expectation, tachypnea, lethargy, poor feeding, cough, vomiting, and diarrhea; (2) chest radiologic abnormalities consistent with viral pneumonia. Diagnosis was confirmed by the SARS-CoV-2 nucleic acid test with samples from respiratory tract swabs. Admitted children with laboratory-confirmed SARS-CoV-2-positive results from 4 hospitals in West China from January 27 to February 23, 2020, were included. The clinical type of disease (S1 Table) was assessed for each patient according to the recommendation of the National HealthCommission of the People's Republic of China (NHC) [10] . Patients were discharged when all the following criteria were met [10] : (1) fever had recovered for at least 3 days; (2) upper respiratory symptoms were alleviated; (3) the exudative lesion was alleviated significantly according to radiological evidence; (4) negative results were obtained for SARS-CoV-2 nucleic acid detection in 2 consecutive tests performed with an interval of 24 hours. The final follow-up visit was completed by March 16, 2020. Assent was gained from school-aged children, and written informed consent was provided by their parents or guardians prior to data collection. There was no prespecified protocol prior to the current study. The clinical process and data analysis plan are shown in Fig 1. Samples were taken from nasopharyngeal or throat swabs for SARS-CoV-2 detection. SARS-CoV-2 RNA was detected by real-time reverse transcription polymerase chain reaction (RT-PCR) (S1 Text) in accordance with the recommendation of the NHC [11] . The results of SARS-CoV-2 nucleic acid detection were analyzed by following the manufacturer's instructions. Cases with negative results were double checked by resampling and retesting with an interval of 24 hours and could be confirmed when negative results were obtained in 2 consecutive tests. A series of laboratory tests were conducted, including hematological, serum biochemical, acute-phase protein, and erythrocyte sedimentation rate (ESR) testing. In particular, samples from nasopharyngeal or throat swabs were tested for common respiratory pathogens, including influenza A and B virus, respiratory syncytial virus, adenovirus, parainfluenza virus, Epstein-Barr virus, and Mycoplasma pneumoniae, using RT-PCR assays with established methods.Patients underwent chest computed tomography (CT) scans. The radiologic assessments were conducted in Taihe Hospital, which was a treatment center for COVID-19 designated by local municipal government. The images were stored in picture archiving and communication systems (PACS) and reviewed by 2 experienced pediatric radiologists independently. A third radiologist reviewed all CT findings for confirmation.The medical records of the included patients were accessed by the study team for data collection. Clinical data were extracted, including demographic data, medical history, epidemiological history, underlying diseases, clinical symptoms, signs, laboratory findings, radiological characteristics, treatments, and outcomes. In particular, exposure history was investigated if the patients met any of the following criteria [10] : (1) travel history in Wuhan or neighboring areas or other areas with persistent local transmission within 14 days prior to disease onset; (2) a SARS-CoV-2 infection diagnosis in the child's family or caregivers; (3) close contact with people who might have or with confirmed SARS-CoV-2 infection or patients with unexplained pneumonia; and (4) children who were associated with a cluster outbreak. In addition, mixed infection was defined as the concurrent infection of a patient with 2 or more pathogens. Two researchers from the Institute of Drug Clinical Trials of Taihe Hospital cross-checked the collected data to ensure quality control and communicated with attending doctors or other healthcare providers if they had any questions. This study was reported based on a STROBE checklist (S1 STROBE Checklist).Descriptive statistics were determined using SPSS software (version 20.0, IBM, https://www. ibm.com/analytics/spss-statistics-software, Armonk, NY, USA). No imputation was made for missing data. Categorical variables are presented as number and frequency rates. Continuous variables are presented as the median and interquartile range (IQR).In this study, 57 suspected pediatric patients were screened, among whom 34 patients with confirmed COVID-19 were enrolled (Fig 1) , including 14 male patients (41%) and 20 female patients (59%). The first patient was diagnosed with SARS-CoV-2 infection on January 27, 9 days after his father was diagnosed with COVID-19. There were 21 cases (62%) that were diagnosed after 15 February, and an uptrend of daily confirmed cases was observed until the cutoff date of our recruitment phase (Fig 2) . The median age was 33 (IQR 10.00-94.25) months with a range of 1 to 144 months. Eighteen patients (52%) had exposure to residents of Wuhan. In addition, 13 (38%) patients had close contact with family members with COVID-19, and 16 (48%) patients were noted to be without a history of exposure to an identified source. In particular, mixed infections of other respiratory pathogens were reported in 16 patients (47%), including M. pneumoniae (26%), influenza B virus (18%), influenza A virus (9%), respiratory syncytial virus (6%), Epstein-Barr virus (6%), parainfluenza virus (3%), and adenovirus (3%). Comorbidities were reported in 6 patients (18%). With respect to the initial symptoms and signs, fever (76%) and cough (62%) were the most frequently complaints. Meanwhile, expectoration (21%), tachypnea (9%), vomiting (12%), and diarrhea (12%) were reported as well. Patients in our study presented mild (18%) or moderate (82%) forms of disease, and moderate cases were predominant (96%) in 23 patients who were not older than 72 months (Table 1) .On admission, hematological tests indicated that the lymphocyte count was increased in 17 patients (50%), although the median value (3.19, 1.73-4.34) was within the normal range. Concerning the findings of blood biochemistry, prealbumin (median 138.65 mg/L) was decreased significantly in 25 patients (among 32 patients with available data; 78%), whereas a substantial increase was detected in serum amyloid A (SAA) for 17 patients (among 20 patients with available data; 85%) and high-sensitivity C-reactive protein (hs-CRP) for 17 patients (among 29 patients with available data; 59%). In addition, a noticeable increase was observed in lactate dehydrogenase (LDH) for 28 patients (among 34 patients; 82%) and in α-hydroxybutyrate dehydrogenase (α-HBDH) for 25 patients (among 34 patients; 74%). However, the results for creatine kinase (CK) and creatine kinase-MB (CK-MB) were normal for all patients ( Table 2) . No other significant findings were observed in routine blood coagulation tests or urine and stool tests. The results of the electrocardiogram (ECG) exam were normal in all patients during hospitalization. During hospitalization, laboratory tests were reviewed 7 days after admission. The levels of SAA, hs-CRP, and prealbumin had recovered within 7 days posttreatment for all patients with abnormalities at baseline. The median duration for recovery was 7.00 (7.00-10.00) days for LDH and 8.00 (7.00-10.00) days for α-HBDH. The proportion of patients who recovered in LDH and α-HBDH were 86% (for 24 patients) and 84% (for 21 patients), respectively.Lesions in lobules that were characterized by patchy shadows of high density were indicated by chest CT scans in 28 patients (82%) on admission. A ground-glass opacity with patchy shadows was observed in 1 case (3%) in our study (Table 3) . Both unilateral lesions (41%) and bilateral lesions (41%) were detected in the patients with radiological findings. Notable lesion progression was detected in 18 (among 28 patients with lesions on admission; 64%) patients during hospitalization (Patient 1 in Fig 3) . Moreover, a late-onset pattern in the chest CT images was observed in 4 cases (among 34 patients; 12%). These patients had normal initial CT images on admission; however, lesions in lobules emerged in 4-5 days thereafter (Patient 2 in Fig 3) . There were only 2 cases (among 34 patients; 6%) without emergence of lesions during hospitalization.Antiviral treatments were employed according to the recommendation of the NHC [10] for mild and moderate cases. All patients received interferon-α nebulization twice a day. Ribavirin was given to 15 (44%) patients twice a day. In addition, 20 (59%) patients received traditional Chinese medicine. Antibiotics were given to 11 patients with an initial diagnosis of bacterial pneumonia on admission before detection of SARS-CoV-2 infection and were withdrawn after confirmation of COVID-19. Nine patients received antibiotic therapy because of concerns about viral-bacterial mixed infections during hospitalization. Azithromycin was given to 9 patients with M. pneumonia infection. Corticosteroid (15%) and oxygen inhalation supportive therapy (9%) were also employed (Table 3) . All patients were discharged once the main symptoms disappeared and the SARS-CoV-2 tests became negative. However, lesions in lobules recovered in only 8 patients. The lesions still existed in 24 patients (among 32 patients with lesions; 75%) when they were discharged (Fig 4) . The duration of fever was 3.00 (2.00-4.00) days, similar to that of cough (4.00 days, 2.00-7.00). The duration of hospitalization was 10.00 (8.00-14.25) days for all patients. A shorter duration of hospitalization was indicated in mild cases (8.00 days, 7.00-9.50) than in moderate cases (10.50 days, 8.00-15.00) ( Table 4 ).Along with the rapid spread of SARS-CoV-2 infection, the pediatric cases of COVID-19 gradually increased. The morbidity of COVID-19 in children was reported as 0.9% in China [1], 1.2% in Italy [12] , and 5% in the USA [13] . However, the clinical and epidemiological characteristics of pediatric patients have not yet been determined clearly. Here, we report the clinical and epidemiological features of 34 pediatric patients with COVID-19 aged from 1 to 144 months. Patients experienced mild or moderate disease forms in the current study. Most patients suffered from fever and cough, which recovered within 3.00-4.00 days after treatment. The progression pattern of the lesions in lobules was revealed by chest CT scan, and the lesions still existed in the majority of patients when discharged. Unlike other reports, the typical feature of ground-glass opacity observed in adults was rare in pediatric patients based on our data. Substantial increases were detected in SSA, hs-CRP, LDH, and α-HDBD, all of which recovered promptly after treatment. The current study found that all the patients presented mild or moderate COVID-19 disease, which was consistent with the results of previous studies [14, 15] . It was also reported that 94% of cases were identified as asymptomatic (4%), mild (51%), or moderate (39%) among 2,143 confirmed and suspected pediatric patients in China [14] . The underlying mechanisms of milder disease presentation in children compared with adults has been a topic of research, and several hypotheses have been raised based on the current understanding of COVID-19. One possible explanation may be related to a reduced inflammatory response due to the less well-developed immune system in children than in adults [16] . However, a substantial increase in hs-CRP was detected in 59% of cases in our study, which was similar to that observed in adult cases (61%) [1] . This finding suggested that an immunological response that was similar to that in adults occurred in the pediatric population in neighboring areas of Wuhan, which did not support the immature immune system theory. Serum inflammatory marker detection was not performed in our study because of the limitation of the retrospective study design, and such detection could be helpful to address this controversial issue in the future. The other theory originated from the observation that younger children experienced milder disease courses. Children of younger age tend to have many viral infections, and it is possible that repeated viral exposure strengthens the immune system when it responds to SARS-CoV-2 [17] . Correspondingly, mixed infection was detected in 16 (47%) patients with other pathogens, including M. pneumoniae, influenza A and B virus, respiratory syncytial virus, Epstein-Barr virus, parainfluenza virus, and adenovirus. However, all these pathogens were tested to be negative in 10 pediatric cases from Guangzhou [18] . Stratified analysis according to age range was performed to determine the correlation between age and mixed infection, if any, as well as the impact of mixed infection on the clinical type of disease. As a result, mixed infection (62% in 13 patients) was most common in children aged between 12 and 72 months, and 12 moderate cases (92% in 13 patients) were identified in this subgroup. It was suggested that mixed infection did not increase protection to ameliorate the disease course of COVID-19 based on our data. In addition, children with moderate disease aged below 72 months accounted for 79% of all moderate cases, suggesting that preschool children were more prone to developing SARS-CoV-2 infection. According to our current data from the chest CT images, patchy shadows were detected in 82% of patients on admission, which was in accordance with previous reports in adults (86%) [1] and children (65%) [15] . Lesions in lobules were characterized with patchy shadows of high density in most cases (97%). Ground-glass opacity was rare (3%) in the current study, although it was common in pediatric cases from Wuhan (33% in 171 cases) [15] and Guangzhou (50% in 10 cases) [18] , as well as in adults (56%) [19] . Notably, the proportion of patients with a history of exposure was 52% in current study, whereas the proportion was 90% in 171 cases from Wuhan [15] and 100% in 10 cases from Guangzhou [18] . Thus, exposure status might attribute partially to the discrepancy of proportions in pediatric cases between current study and previous studies. Further study was needed to reveal the correlativity between viral load of SARS-CoV-2 and exposure status to identify the underlying reason for the discrepancy. The time course of lung changes was revealed in adult patients [20] ; however, the course of progression remained elusive in pediatric cases. Notably, severe progression of lesions in lobules was noticed within 7 days after admission in the current study and even sometimes appeared 4-5 days after admission. However, the clinical presentations were not so severe as the signs shown in CT images. Rapid radiologic progression was also reported, with a peak at approximately 2 weeks after onset [21] in adult cases. In addition, a late-onset pattern of lesions was detected in some cases, because the lesions were indicated by the CT scan after approximately 7 days after symptom onset, which was similar to that observed in other report for adults (6-12 days) [22] . Nonetheless, our findings suggest that close monitoring for pediatric patients should be performed because of the severe progression of lesions in lobules and the late-onset pattern seen in some cases.The level of SAA was found to be increase in a high percentage (for 17 patients among 20 patients with available data; 85%) of patients undergoing the test and was a sensitive marker correlated with the extent of pneumonia in SARS patients [23] . The levels of hs-CRP and SAA recovered dramatically within 7 days after treatments. The correlation of SAA and SARS-CoV-2 infection remains to be investigated in pediatric patients. Consistent with previous reports in adults [1, 6] and children [24] , the levels of LDH and α-HBDH were increased without any symptoms or signs of myocardial impairment.With respect to the initial symptoms, fever was identified in 26 children (76%) in our study; however, it presents in only 44% of adult patients on admission [1] . In addition, vomiting (12%) and diarrhea (12%) also present on admission and were more common in children than in adult patients (5% for vomiting and 4% for diarrhea) [1] . Comorbidities were found in 6 patients (18%) in the current study, which was similar to that observed in adult patients with mild symptoms (21%) [1] .The therapeutic strategy was based on antiviral therapies, which was in alignment with the recommendations of the NHC [10] . All the patients had recovered from the main symptoms when discharged. A negative SARS-CoV-2 detection result was achieved in 10.00 (8.00-14.25) days. Lesions in lobules still existed in 75% of patients, although great improvements were shown in CT scans after treatments. An association of the radiologic findings with mortality was revealed in adult patients [19] . However, it was not suggested to utilize CT scans for prognosis prediction in mild and moderate cases because no definitive correlation was found between radiologic imaging and the course of the disease in our study.Our study also adds new information to existing reports on epidemiological characteristics. A considerable percentage of pediatric patients (48%) was noticed to have an unidentified source of infection, whereas up to 72% of nonresidents of Wuhan had contact with residents of Wuhan [1] . The unanticipated findings suggested that the reference value of exposure history to epidemic areas for the early identification of SARS-CoV-2 infection should be considered carefully for pediatric patients during the rapid development of epidemics. The correlation of exposure history with disease severity could be investigated in a future study with a larger population. In accordance with the present studies [14, 25] , family cluster transmission was found to be common in our pediatric patients. There have been few reports of the infection dynamics from pediatric patients to their caregivers, although transmission from adults to children has been identified with confirmed evidence. Children may become potential spreaders in the explosive stage of the outbreak, which was attributed to a high prevalence of asymptomatic infection and milder disease in the pediatric population [25] . Thus, a close monitoring and tracking system involving hospitals and communities was utilized to track the transmission between pediatric patients and their caregivers. However, no evidence was shown regarding the transmission route from pediatric patients to their caregivers and closecontact family members.The patient population in the current study is representative of pediatric cases diagnosed and treated in West China. However, the interpretation of our findings was limited by the small sample size and retrospective study design. The underlying reasons for the lower risk of the severe form of COVID-19 in children remain elusive because of a lack of dynamic detection of the viral load of SARS-CoV-2 and inflammatory markers. Further information about these issues would help us to obtain a broader view of COVID-19.This case series described the clinical and epidemiological characteristics of pediatric patients with COVID-19. Our data presented the clinical features of pediatric patients to facilitate early identification and intervention in suspected patients. Notwithstanding the relatively limited number of samples, our findings offer valuable insight into the early diagnosis and epidemic control of COVID-19 in children. \",\n",
       " '_index': 'covid'}"
      ]
     },
     "execution_count": 5,
     "metadata": {},
     "output_type": "execute_result"
    }
   ],
   "source": [
    "corpus[0] # sample data "
   ]
  },
  {
   "cell_type": "code",
   "execution_count": 8,
   "metadata": {},
   "outputs": [],
   "source": [
    "# create elasticsearch \n",
    "es = Elasticsearch(HOST = \"http://localhost\", PORT = 9200)"
   ]
  },
  {
   "cell_type": "code",
   "execution_count": 9,
   "metadata": {},
   "outputs": [
    {
     "data": {
      "text/plain": [
       "{'acknowledged': True}"
      ]
     },
     "execution_count": 9,
     "metadata": {},
     "output_type": "execute_result"
    }
   ],
   "source": [
    "es.indices.delete(\"covid\")"
   ]
  },
  {
   "cell_type": "code",
   "execution_count": 10,
   "metadata": {},
   "outputs": [],
   "source": [
    "# import json files into elasticsearch\n",
    "res = helpers.bulk(es, corpus)"
   ]
  },
  {
   "cell_type": "markdown",
   "metadata": {},
   "source": [
    "Preprocess query"
   ]
  },
  {
   "cell_type": "code",
   "execution_count": 11,
   "metadata": {},
   "outputs": [],
   "source": [
    "stopwords = list(set(stopwords.words('english')))"
   ]
  },
  {
   "cell_type": "code",
   "execution_count": 12,
   "metadata": {},
   "outputs": [],
   "source": [
    "def preprocess_query(query):\n",
    "    query = query.lower()\n",
    "    # remove punctuation\n",
    "    pro_query = query.translate(str.maketrans('', '', string.punctuation))\n",
    "    # tokenize query\n",
    "    tokens = nltk.word_tokenize(pro_query)\n",
    "    # filter stop words\n",
    "    return list(set([token for token in tokens \n",
    "                if len(token) > 1\n",
    "               and not token in stopwords \n",
    "               and not token.isnumeric()]))"
   ]
  },
  {
   "cell_type": "code",
   "execution_count": 13,
   "metadata": {},
   "outputs": [],
   "source": [
    "# example query\n",
    "query = \"What do we know about COVID-19 risk factors ?\"\n",
    "pre = preprocess_query(query)"
   ]
  },
  {
   "cell_type": "markdown",
   "metadata": {},
   "source": [
    "Search Documents through elasticsearch"
   ]
  },
  {
   "cell_type": "code",
   "execution_count": 14,
   "metadata": {},
   "outputs": [],
   "source": [
    "def create_search(query, return_number = 1):\n",
    "    \n",
    "    # create empty body text\n",
    "    body = {\n",
    "        \"from\":0,\n",
    "        \"size\": return_number,\n",
    "        \"query\" : {\"bool\" : {\"must\" : [\n",
    "    \n",
    "]}            \n",
    "                  }\n",
    "       \n",
    "       }\n",
    "    # add requirment\n",
    "    for word in query:\n",
    "        \n",
    "        Cap_word = word[0].upper() + word[1:]\n",
    "        total_words = word + \" \" + Cap_word + \" \" + word.upper()\n",
    "        body[\"query\"][\"bool\"][\"must\"].append({\"match\": {\"body_text\": total_words}})\n",
    "    \n",
    "    return body"
   ]
  },
  {
   "cell_type": "code",
   "execution_count": 15,
   "metadata": {},
   "outputs": [
    {
     "data": {
      "text/plain": [
       "{'from': 0,\n",
       " 'size': 1,\n",
       " 'query': {'bool': {'must': [{'match': {'body_text': 'covid19 Covid19 COVID19'}},\n",
       "    {'match': {'body_text': 'know Know KNOW'}},\n",
       "    {'match': {'body_text': 'risk Risk RISK'}},\n",
       "    {'match': {'body_text': 'factors Factors FACTORS'}}]}}}"
      ]
     },
     "execution_count": 15,
     "metadata": {},
     "output_type": "execute_result"
    }
   ],
   "source": [
    "# example body\n",
    "\n",
    "body = create_search(pre)\n",
    "body"
   ]
  },
  {
   "cell_type": "code",
   "execution_count": 16,
   "metadata": {},
   "outputs": [],
   "source": [
    "# get search results (only return 1 result for the demo)\n",
    "\n",
    "results = es.search(index = \"covid\", body = body)\n",
    "results = results[\"hits\"][\"hits\"][0][\"_source\"]"
   ]
  },
  {
   "cell_type": "code",
   "execution_count": 19,
   "metadata": {},
   "outputs": [],
   "source": [
    "# exports results to json files\n",
    "\n",
    "with open('data.json', 'w') as f:\n",
    "    json.dump(results, f)"
   ]
  },
  {
   "cell_type": "code",
   "execution_count": null,
   "metadata": {},
   "outputs": [],
   "source": []
  }
 ],
 "metadata": {
  "kernelspec": {
   "display_name": "Python 3",
   "language": "python",
   "name": "python3"
  },
  "language_info": {
   "codemirror_mode": {
    "name": "ipython",
    "version": 3
   },
   "file_extension": ".py",
   "mimetype": "text/x-python",
   "name": "python",
   "nbconvert_exporter": "python",
   "pygments_lexer": "ipython3",
   "version": "3.7.4"
  }
 },
 "nbformat": 4,
 "nbformat_minor": 2
}
